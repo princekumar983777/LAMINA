{
 "cells": [
  {
   "cell_type": "code",
   "execution_count": 1,
   "id": "5cae5099",
   "metadata": {},
   "outputs": [
    {
     "name": "stdout",
     "output_type": "stream",
     "text": [
      "🪟 ● test.ipynb - Project - Visual Studio Code\n",
      "🪟 Task management design\n",
      "🪟 Models - Hugging Face and 2 more pages - Personal - Microsoft​ Edge\n",
      "🪟 doddle.py - Lamina - Visual Studio Code\n",
      "🪟 Lamina - File Explorer\n",
      "🪟 PyQt5 Chibi Bot - Google Chrome\n",
      "🪟 normal distribution left skewed - Google Search - Google Chrome\n",
      "🪟 uniform distribution - Google Search - Google Chrome\n",
      "🪟 Settings\n",
      "🪟 PyQt5 Widgets — QCheckBox, QComboBox, QPushButton, QLabel, QSlider - Google Chrome\n",
      "🪟 BLACKBOX.AI and 36 more pages - Personal - Microsoft​ Edge\n",
      "🪟 Program Manager\n"
     ]
    }
   ],
   "source": [
    "import pygetwindow as gw\n",
    "\n",
    "windows = gw.getAllTitles()\n",
    "for title in windows:\n",
    "    if title.strip():  # Skip empty titles\n",
    "        print(f\"🪟 {title}\")\n"
   ]
  },
  {
   "cell_type": "code",
   "execution_count": 2,
   "id": "ec6c9fca",
   "metadata": {},
   "outputs": [
    {
     "name": "stdout",
     "output_type": "stream",
     "text": [
      "🪟 ● test.ipynb - Project - Visual Studio Code (Handle: 3999098)\n",
      "🪟 Task management design (Handle: 68032)\n",
      "🪟 Lamina - File Explorer (Handle: 9504800)\n",
      "🪟 Models - Hugging Face and 2 more pages - Personal - Microsoft​ Edge (Handle: 1050440)\n",
      "🪟 doddle.py - Lamina - Visual Studio Code (Handle: 919380)\n",
      "🪟 PyQt5 Chibi Bot - Google Chrome (Handle: 5112846)\n",
      "🪟 normal distribution left skewed - Google Search - Google Chrome (Handle: 7538390)\n",
      "🪟 uniform distribution - Google Search - Google Chrome (Handle: 7996420)\n",
      "🪟 Settings (Handle: 198574)\n",
      "🪟 PyQt5 Widgets — QCheckBox, QComboBox, QPushButton, QLabel, QSlider - Google Chrome (Handle: 1573778)\n",
      "🪟 BLACKBOX.AI and 36 more pages - Personal - Microsoft​ Edge (Handle: 14877734)\n",
      "🪟 Program Manager (Handle: 3408822)\n"
     ]
    }
   ],
   "source": [
    "# !pip install pywin32\n",
    "\n",
    "import win32gui\n",
    "\n",
    "def enum_window_callback(hwnd, results):\n",
    "    if win32gui.IsWindowVisible(hwnd):\n",
    "        title = win32gui.GetWindowText(hwnd)\n",
    "        if title:\n",
    "            results.append((hwnd, title))\n",
    "\n",
    "windows = []\n",
    "win32gui.EnumWindows(enum_window_callback, windows)\n",
    "\n",
    "for hwnd, title in windows:\n",
    "    print(f\"🪟 {title} (Handle: {hwnd})\")\n"
   ]
  },
  {
   "cell_type": "code",
   "execution_count": null,
   "id": "50ebaa31",
   "metadata": {},
   "outputs": [],
   "source": []
  }
 ],
 "metadata": {
  "kernelspec": {
   "display_name": "Python 3",
   "language": "python",
   "name": "python3"
  },
  "language_info": {
   "codemirror_mode": {
    "name": "ipython",
    "version": 3
   },
   "file_extension": ".py",
   "mimetype": "text/x-python",
   "name": "python",
   "nbconvert_exporter": "python",
   "pygments_lexer": "ipython3",
   "version": "3.11.9"
  }
 },
 "nbformat": 4,
 "nbformat_minor": 5
}
